{
 "cells": [
  {
   "cell_type": "markdown",
   "id": "f00b70eb-d63c-4d18-afa7-d7c58ec3581f",
   "metadata": {},
   "source": [
    "# Data Science Tools and Ecosystem\n"
   ]
  },
  {
   "cell_type": "markdown",
   "id": "75e2aaa7-d693-489c-a094-5350a5ca81f2",
   "metadata": {},
   "source": [
    "In this notebook, Data Science Tools and Ecosystem are summarized."
   ]
  },
  {
   "cell_type": "markdown",
   "id": "36478414-f78f-4518-86d7-aded196898af",
   "metadata": {},
   "source": [
    "**Objectives:**\n",
    "1. List popular languages in Data Science\n",
    "2. List commonly used libraries in Data Science\n",
    "3. List Data Science tools\n",
    "4. Introducing Arithmetic expression examples"
   ]
  },
  {
   "cell_type": "markdown",
   "id": "9d14d66a-2c4a-4838-850d-da2252c47b9e",
   "metadata": {},
   "source": [
    "Some of the popular languages Data Scientists use are:\n",
    "\n",
    "1. Python\n",
    "2. R Programming Language\n",
    "3. Scala\n",
    "4. Java\n",
    "5. Julia\n",
    "6. MATLAB\n",
    "7. SQL"
   ]
  },
  {
   "attachments": {},
   "cell_type": "markdown",
   "id": "6715dddc-d3b8-4d2b-8431-b82c2c3a1c2d",
   "metadata": {},
   "source": [
    "Some of the commonly used libraries used by Data Scientists include:\n",
    "1. NumPy\n",
    "2. TensorFlow\n",
    "3. Keras\n",
    "4. Pandas\n",
    "5. Matplotlib\n",
    "6. Seaborn\n",
    "7. Plotly"
   ]
  },
  {
   "cell_type": "markdown",
   "id": "6719a8c9-6db6-448c-ae5e-06301b8509d7",
   "metadata": {},
   "source": [
    "|Data Science Tools|\n",
    "|------------------|\n",
    "|RStudio|\n",
    "|TensorFlow|\n",
    "|Apache Spark|"
   ]
  },
  {
   "attachments": {},
   "cell_type": "markdown",
   "id": "5f518de3-9d47-4eee-8c6e-9d1346faeee7",
   "metadata": {},
   "source": [
    "### Below are a few examples of evaluating arithmetic expressions in Python"
   ]
  },
  {
   "cell_type": "code",
   "execution_count": 9,
   "id": "3ead426e-4cb2-424c-8119-421ecf301705",
   "metadata": {},
   "outputs": [
    {
     "data": {
      "text/plain": [
       "17"
      ]
     },
     "execution_count": 9,
     "metadata": {},
     "output_type": "execute_result"
    }
   ],
   "source": [
    "#This is a simple arithmetic expression to multiply then add integers.\n",
    "(3*4)+5"
   ]
  },
  {
   "cell_type": "code",
   "execution_count": 15,
   "id": "9fcf981f-e77f-4971-9a98-bbb6433d68e5",
   "metadata": {},
   "outputs": [
    {
     "name": "stdout",
     "output_type": "stream",
     "text": [
      "3.3333333333333335\n"
     ]
    }
   ],
   "source": [
    "#This will convert minutes to hours by dividing by 60:\n",
    "minutes=200\n",
    "Hour=minutes/60\n",
    "print(Hour)"
   ]
  },
  {
   "cell_type": "markdown",
   "id": "ecfe0588-78fe-4f92-99f1-0954390e181e",
   "metadata": {},
   "source": [
    "## Author\n",
    "Sahid Abraham"
   ]
  },
  {
   "cell_type": "code",
   "execution_count": null,
   "id": "e0361d13-5523-4c29-82fc-240b4730e001",
   "metadata": {},
   "outputs": [],
   "source": []
  }
 ],
 "metadata": {
  "kernelspec": {
   "display_name": "anaconda-panel-2023.05-py310",
   "language": "python",
   "name": "conda-env-anaconda-panel-2023.05-py310-py"
  },
  "language_info": {
   "codemirror_mode": {
    "name": "ipython",
    "version": 3
   },
   "file_extension": ".py",
   "mimetype": "text/x-python",
   "name": "python",
   "nbconvert_exporter": "python",
   "pygments_lexer": "ipython3",
   "version": "3.11.5"
  }
 },
 "nbformat": 4,
 "nbformat_minor": 5
}
